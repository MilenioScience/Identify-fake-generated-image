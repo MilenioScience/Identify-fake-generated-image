{
  "nbformat": 4,
  "nbformat_minor": 0,
  "metadata": {
    "colab": {
      "provenance": [],
      "gpuType": "T4"
    },
    "kernelspec": {
      "name": "python3",
      "display_name": "Python 3"
    },
    "language_info": {
      "name": "python"
    },
    "accelerator": "GPU",
    "gpuClass": "standard"
  },
  "cells": [
    {
      "cell_type": "code",
      "execution_count": null,
      "metadata": {
        "id": "VeOYV7H39drh"
      },
      "outputs": [],
      "source": [
        "import pandas as pd\n",
        "import matplotlib.pyplot as plt\n",
        "import seaborn as sns\n",
        "import plotly.express as px\n",
        "import numpy as np\n",
        "from sklearn import preprocessing\n",
        "from sklearn.model_selection import train_test_split\n",
        "import random\n",
        "import sklearn.linear_model as sklm\n",
        "from sklearn import metrics\n",
        "from sklearn.linear_model import Ridge, RidgeCV, Lasso, LassoCV, LinearRegression\n",
        "import math"
      ]
    },
    {
      "cell_type": "code",
      "source": [
        "file_path = '/content/drive/MyDrive/identify_fake_generated_image/train.csv'\n",
        "df = pd.read_csv(file_path)\n",
        "df.head(11)"
      ],
      "metadata": {
        "colab": {
          "base_uri": "https://localhost:8080/",
          "height": 487
        },
        "id": "6YVXIyiI-iJ7",
        "outputId": "f5d793ec-d0cd-4318-c9ba-6a0886a17ad1"
      },
      "execution_count": null,
      "outputs": [
        {
          "output_type": "execute_result",
          "data": {
            "text/plain": [
              "    labels       f_0       f_1       f_2       f_3       f_4       f_5  \\\n",
              "0        0 -2.033875  0.978446 -0.142131 -0.177117 -1.470684  1.669562   \n",
              "1        1 -0.348835  0.294815 -0.557577 -2.020773 -1.234715  1.633930   \n",
              "2        1  0.113248 -0.607726 -0.947791  0.830851  0.998291  0.498321   \n",
              "3        0  1.223321 -0.479048 -1.925789  1.680377  0.021840 -1.453307   \n",
              "4        0  0.160109  0.422684 -0.308029  0.227744  0.432854  0.608348   \n",
              "5        0 -0.526642 -0.590432  0.328210 -0.547433 -0.692556  0.175954   \n",
              "6        0 -0.199279  0.831787 -1.052687  0.491722 -0.571469 -1.449519   \n",
              "7        0 -0.906233  0.987997 -2.056229  1.078932  0.501608  0.826041   \n",
              "8        0 -0.283658  0.964051 -0.349123 -0.162445  0.238172  0.501472   \n",
              "9        0  1.382773 -2.415394  0.969006 -1.690371  1.509442  0.914959   \n",
              "10       1 -0.932571  1.366246  0.364603  2.126203  0.705695  0.066673   \n",
              "\n",
              "         f_6       f_7       f_8  ...    f_1190    f_1191    f_1192    f_1193  \\\n",
              "0  -0.196530 -0.125239 -0.452284  ... -1.111266  0.716084  0.060039  0.301279   \n",
              "1  -1.680658 -0.358146  0.166122  ...  0.735240  0.829781  1.521941  1.347946   \n",
              "2  -1.493958  0.789572 -1.311018  ...  0.104698  0.616189 -1.035953  2.111387   \n",
              "3   0.605559 -0.019024  1.065448  ...  0.360237 -1.957863 -0.123384  1.505329   \n",
              "4   0.193832  1.035091 -0.538868  ...  0.416629  1.441766  0.212572 -0.994721   \n",
              "5   0.539330  0.578212  0.547327  ...  1.131889  0.250693 -0.215257  0.236730   \n",
              "6  -0.227167  0.451431  0.090848  ...  1.081787  0.875338 -1.217201 -0.297249   \n",
              "7  -0.136533 -0.931548 -0.657145  ...  1.041859 -0.313667  1.492701 -0.425727   \n",
              "8   0.413006 -1.183602 -0.221886  ... -1.612677 -0.714356 -0.033445 -2.350722   \n",
              "9  -0.161389  0.952598 -0.044989  ...  0.875176 -0.855081  0.318588  0.252447   \n",
              "10 -0.796001 -1.204584 -0.579558  ...  0.403565 -0.092736 -0.051202  1.109147   \n",
              "\n",
              "      f_1194    f_1195    f_1196    f_1197    f_1198    f_1199  \n",
              "0  -1.174846 -1.076498 -0.069452 -0.604012 -2.179176  0.558003  \n",
              "1   0.754505  1.330642 -0.754453  0.582956  0.252671  1.495870  \n",
              "2  -0.984415  1.148076 -1.433554  0.243372  0.170083  1.274795  \n",
              "3   0.660290 -1.769443 -0.547756 -0.568122  0.244645  0.982116  \n",
              "4   1.143999 -2.166923 -1.199248 -1.028636  0.752791  0.317169  \n",
              "5   0.905414 -0.102015 -2.453250 -1.562715 -0.324501  1.590111  \n",
              "6  -0.133911 -0.865070 -0.128914  1.153154  0.363864  0.670339  \n",
              "7  -0.425587 -0.408214  2.041689  0.814182  0.211569  0.343013  \n",
              "8  -1.373337 -1.521727  0.015327  0.114279  1.320421  0.979955  \n",
              "9   0.400645  1.732217 -0.390191  0.628386 -1.518295 -0.218986  \n",
              "10  0.028089 -0.467010 -0.072701  0.181085  1.065936 -1.294234  \n",
              "\n",
              "[11 rows x 1201 columns]"
            ],
            "text/html": [
              "\n",
              "  <div id=\"df-12171fdd-57e0-4ca5-8cef-db37a03d854a\">\n",
              "    <div class=\"colab-df-container\">\n",
              "      <div>\n",
              "<style scoped>\n",
              "    .dataframe tbody tr th:only-of-type {\n",
              "        vertical-align: middle;\n",
              "    }\n",
              "\n",
              "    .dataframe tbody tr th {\n",
              "        vertical-align: top;\n",
              "    }\n",
              "\n",
              "    .dataframe thead th {\n",
              "        text-align: right;\n",
              "    }\n",
              "</style>\n",
              "<table border=\"1\" class=\"dataframe\">\n",
              "  <thead>\n",
              "    <tr style=\"text-align: right;\">\n",
              "      <th></th>\n",
              "      <th>labels</th>\n",
              "      <th>f_0</th>\n",
              "      <th>f_1</th>\n",
              "      <th>f_2</th>\n",
              "      <th>f_3</th>\n",
              "      <th>f_4</th>\n",
              "      <th>f_5</th>\n",
              "      <th>f_6</th>\n",
              "      <th>f_7</th>\n",
              "      <th>f_8</th>\n",
              "      <th>...</th>\n",
              "      <th>f_1190</th>\n",
              "      <th>f_1191</th>\n",
              "      <th>f_1192</th>\n",
              "      <th>f_1193</th>\n",
              "      <th>f_1194</th>\n",
              "      <th>f_1195</th>\n",
              "      <th>f_1196</th>\n",
              "      <th>f_1197</th>\n",
              "      <th>f_1198</th>\n",
              "      <th>f_1199</th>\n",
              "    </tr>\n",
              "  </thead>\n",
              "  <tbody>\n",
              "    <tr>\n",
              "      <th>0</th>\n",
              "      <td>0</td>\n",
              "      <td>-2.033875</td>\n",
              "      <td>0.978446</td>\n",
              "      <td>-0.142131</td>\n",
              "      <td>-0.177117</td>\n",
              "      <td>-1.470684</td>\n",
              "      <td>1.669562</td>\n",
              "      <td>-0.196530</td>\n",
              "      <td>-0.125239</td>\n",
              "      <td>-0.452284</td>\n",
              "      <td>...</td>\n",
              "      <td>-1.111266</td>\n",
              "      <td>0.716084</td>\n",
              "      <td>0.060039</td>\n",
              "      <td>0.301279</td>\n",
              "      <td>-1.174846</td>\n",
              "      <td>-1.076498</td>\n",
              "      <td>-0.069452</td>\n",
              "      <td>-0.604012</td>\n",
              "      <td>-2.179176</td>\n",
              "      <td>0.558003</td>\n",
              "    </tr>\n",
              "    <tr>\n",
              "      <th>1</th>\n",
              "      <td>1</td>\n",
              "      <td>-0.348835</td>\n",
              "      <td>0.294815</td>\n",
              "      <td>-0.557577</td>\n",
              "      <td>-2.020773</td>\n",
              "      <td>-1.234715</td>\n",
              "      <td>1.633930</td>\n",
              "      <td>-1.680658</td>\n",
              "      <td>-0.358146</td>\n",
              "      <td>0.166122</td>\n",
              "      <td>...</td>\n",
              "      <td>0.735240</td>\n",
              "      <td>0.829781</td>\n",
              "      <td>1.521941</td>\n",
              "      <td>1.347946</td>\n",
              "      <td>0.754505</td>\n",
              "      <td>1.330642</td>\n",
              "      <td>-0.754453</td>\n",
              "      <td>0.582956</td>\n",
              "      <td>0.252671</td>\n",
              "      <td>1.495870</td>\n",
              "    </tr>\n",
              "    <tr>\n",
              "      <th>2</th>\n",
              "      <td>1</td>\n",
              "      <td>0.113248</td>\n",
              "      <td>-0.607726</td>\n",
              "      <td>-0.947791</td>\n",
              "      <td>0.830851</td>\n",
              "      <td>0.998291</td>\n",
              "      <td>0.498321</td>\n",
              "      <td>-1.493958</td>\n",
              "      <td>0.789572</td>\n",
              "      <td>-1.311018</td>\n",
              "      <td>...</td>\n",
              "      <td>0.104698</td>\n",
              "      <td>0.616189</td>\n",
              "      <td>-1.035953</td>\n",
              "      <td>2.111387</td>\n",
              "      <td>-0.984415</td>\n",
              "      <td>1.148076</td>\n",
              "      <td>-1.433554</td>\n",
              "      <td>0.243372</td>\n",
              "      <td>0.170083</td>\n",
              "      <td>1.274795</td>\n",
              "    </tr>\n",
              "    <tr>\n",
              "      <th>3</th>\n",
              "      <td>0</td>\n",
              "      <td>1.223321</td>\n",
              "      <td>-0.479048</td>\n",
              "      <td>-1.925789</td>\n",
              "      <td>1.680377</td>\n",
              "      <td>0.021840</td>\n",
              "      <td>-1.453307</td>\n",
              "      <td>0.605559</td>\n",
              "      <td>-0.019024</td>\n",
              "      <td>1.065448</td>\n",
              "      <td>...</td>\n",
              "      <td>0.360237</td>\n",
              "      <td>-1.957863</td>\n",
              "      <td>-0.123384</td>\n",
              "      <td>1.505329</td>\n",
              "      <td>0.660290</td>\n",
              "      <td>-1.769443</td>\n",
              "      <td>-0.547756</td>\n",
              "      <td>-0.568122</td>\n",
              "      <td>0.244645</td>\n",
              "      <td>0.982116</td>\n",
              "    </tr>\n",
              "    <tr>\n",
              "      <th>4</th>\n",
              "      <td>0</td>\n",
              "      <td>0.160109</td>\n",
              "      <td>0.422684</td>\n",
              "      <td>-0.308029</td>\n",
              "      <td>0.227744</td>\n",
              "      <td>0.432854</td>\n",
              "      <td>0.608348</td>\n",
              "      <td>0.193832</td>\n",
              "      <td>1.035091</td>\n",
              "      <td>-0.538868</td>\n",
              "      <td>...</td>\n",
              "      <td>0.416629</td>\n",
              "      <td>1.441766</td>\n",
              "      <td>0.212572</td>\n",
              "      <td>-0.994721</td>\n",
              "      <td>1.143999</td>\n",
              "      <td>-2.166923</td>\n",
              "      <td>-1.199248</td>\n",
              "      <td>-1.028636</td>\n",
              "      <td>0.752791</td>\n",
              "      <td>0.317169</td>\n",
              "    </tr>\n",
              "    <tr>\n",
              "      <th>5</th>\n",
              "      <td>0</td>\n",
              "      <td>-0.526642</td>\n",
              "      <td>-0.590432</td>\n",
              "      <td>0.328210</td>\n",
              "      <td>-0.547433</td>\n",
              "      <td>-0.692556</td>\n",
              "      <td>0.175954</td>\n",
              "      <td>0.539330</td>\n",
              "      <td>0.578212</td>\n",
              "      <td>0.547327</td>\n",
              "      <td>...</td>\n",
              "      <td>1.131889</td>\n",
              "      <td>0.250693</td>\n",
              "      <td>-0.215257</td>\n",
              "      <td>0.236730</td>\n",
              "      <td>0.905414</td>\n",
              "      <td>-0.102015</td>\n",
              "      <td>-2.453250</td>\n",
              "      <td>-1.562715</td>\n",
              "      <td>-0.324501</td>\n",
              "      <td>1.590111</td>\n",
              "    </tr>\n",
              "    <tr>\n",
              "      <th>6</th>\n",
              "      <td>0</td>\n",
              "      <td>-0.199279</td>\n",
              "      <td>0.831787</td>\n",
              "      <td>-1.052687</td>\n",
              "      <td>0.491722</td>\n",
              "      <td>-0.571469</td>\n",
              "      <td>-1.449519</td>\n",
              "      <td>-0.227167</td>\n",
              "      <td>0.451431</td>\n",
              "      <td>0.090848</td>\n",
              "      <td>...</td>\n",
              "      <td>1.081787</td>\n",
              "      <td>0.875338</td>\n",
              "      <td>-1.217201</td>\n",
              "      <td>-0.297249</td>\n",
              "      <td>-0.133911</td>\n",
              "      <td>-0.865070</td>\n",
              "      <td>-0.128914</td>\n",
              "      <td>1.153154</td>\n",
              "      <td>0.363864</td>\n",
              "      <td>0.670339</td>\n",
              "    </tr>\n",
              "    <tr>\n",
              "      <th>7</th>\n",
              "      <td>0</td>\n",
              "      <td>-0.906233</td>\n",
              "      <td>0.987997</td>\n",
              "      <td>-2.056229</td>\n",
              "      <td>1.078932</td>\n",
              "      <td>0.501608</td>\n",
              "      <td>0.826041</td>\n",
              "      <td>-0.136533</td>\n",
              "      <td>-0.931548</td>\n",
              "      <td>-0.657145</td>\n",
              "      <td>...</td>\n",
              "      <td>1.041859</td>\n",
              "      <td>-0.313667</td>\n",
              "      <td>1.492701</td>\n",
              "      <td>-0.425727</td>\n",
              "      <td>-0.425587</td>\n",
              "      <td>-0.408214</td>\n",
              "      <td>2.041689</td>\n",
              "      <td>0.814182</td>\n",
              "      <td>0.211569</td>\n",
              "      <td>0.343013</td>\n",
              "    </tr>\n",
              "    <tr>\n",
              "      <th>8</th>\n",
              "      <td>0</td>\n",
              "      <td>-0.283658</td>\n",
              "      <td>0.964051</td>\n",
              "      <td>-0.349123</td>\n",
              "      <td>-0.162445</td>\n",
              "      <td>0.238172</td>\n",
              "      <td>0.501472</td>\n",
              "      <td>0.413006</td>\n",
              "      <td>-1.183602</td>\n",
              "      <td>-0.221886</td>\n",
              "      <td>...</td>\n",
              "      <td>-1.612677</td>\n",
              "      <td>-0.714356</td>\n",
              "      <td>-0.033445</td>\n",
              "      <td>-2.350722</td>\n",
              "      <td>-1.373337</td>\n",
              "      <td>-1.521727</td>\n",
              "      <td>0.015327</td>\n",
              "      <td>0.114279</td>\n",
              "      <td>1.320421</td>\n",
              "      <td>0.979955</td>\n",
              "    </tr>\n",
              "    <tr>\n",
              "      <th>9</th>\n",
              "      <td>0</td>\n",
              "      <td>1.382773</td>\n",
              "      <td>-2.415394</td>\n",
              "      <td>0.969006</td>\n",
              "      <td>-1.690371</td>\n",
              "      <td>1.509442</td>\n",
              "      <td>0.914959</td>\n",
              "      <td>-0.161389</td>\n",
              "      <td>0.952598</td>\n",
              "      <td>-0.044989</td>\n",
              "      <td>...</td>\n",
              "      <td>0.875176</td>\n",
              "      <td>-0.855081</td>\n",
              "      <td>0.318588</td>\n",
              "      <td>0.252447</td>\n",
              "      <td>0.400645</td>\n",
              "      <td>1.732217</td>\n",
              "      <td>-0.390191</td>\n",
              "      <td>0.628386</td>\n",
              "      <td>-1.518295</td>\n",
              "      <td>-0.218986</td>\n",
              "    </tr>\n",
              "    <tr>\n",
              "      <th>10</th>\n",
              "      <td>1</td>\n",
              "      <td>-0.932571</td>\n",
              "      <td>1.366246</td>\n",
              "      <td>0.364603</td>\n",
              "      <td>2.126203</td>\n",
              "      <td>0.705695</td>\n",
              "      <td>0.066673</td>\n",
              "      <td>-0.796001</td>\n",
              "      <td>-1.204584</td>\n",
              "      <td>-0.579558</td>\n",
              "      <td>...</td>\n",
              "      <td>0.403565</td>\n",
              "      <td>-0.092736</td>\n",
              "      <td>-0.051202</td>\n",
              "      <td>1.109147</td>\n",
              "      <td>0.028089</td>\n",
              "      <td>-0.467010</td>\n",
              "      <td>-0.072701</td>\n",
              "      <td>0.181085</td>\n",
              "      <td>1.065936</td>\n",
              "      <td>-1.294234</td>\n",
              "    </tr>\n",
              "  </tbody>\n",
              "</table>\n",
              "<p>11 rows × 1201 columns</p>\n",
              "</div>\n",
              "      <button class=\"colab-df-convert\" onclick=\"convertToInteractive('df-12171fdd-57e0-4ca5-8cef-db37a03d854a')\"\n",
              "              title=\"Convert this dataframe to an interactive table.\"\n",
              "              style=\"display:none;\">\n",
              "        \n",
              "  <svg xmlns=\"http://www.w3.org/2000/svg\" height=\"24px\"viewBox=\"0 0 24 24\"\n",
              "       width=\"24px\">\n",
              "    <path d=\"M0 0h24v24H0V0z\" fill=\"none\"/>\n",
              "    <path d=\"M18.56 5.44l.94 2.06.94-2.06 2.06-.94-2.06-.94-.94-2.06-.94 2.06-2.06.94zm-11 1L8.5 8.5l.94-2.06 2.06-.94-2.06-.94L8.5 2.5l-.94 2.06-2.06.94zm10 10l.94 2.06.94-2.06 2.06-.94-2.06-.94-.94-2.06-.94 2.06-2.06.94z\"/><path d=\"M17.41 7.96l-1.37-1.37c-.4-.4-.92-.59-1.43-.59-.52 0-1.04.2-1.43.59L10.3 9.45l-7.72 7.72c-.78.78-.78 2.05 0 2.83L4 21.41c.39.39.9.59 1.41.59.51 0 1.02-.2 1.41-.59l7.78-7.78 2.81-2.81c.8-.78.8-2.07 0-2.86zM5.41 20L4 18.59l7.72-7.72 1.47 1.35L5.41 20z\"/>\n",
              "  </svg>\n",
              "      </button>\n",
              "      \n",
              "  <style>\n",
              "    .colab-df-container {\n",
              "      display:flex;\n",
              "      flex-wrap:wrap;\n",
              "      gap: 12px;\n",
              "    }\n",
              "\n",
              "    .colab-df-convert {\n",
              "      background-color: #E8F0FE;\n",
              "      border: none;\n",
              "      border-radius: 50%;\n",
              "      cursor: pointer;\n",
              "      display: none;\n",
              "      fill: #1967D2;\n",
              "      height: 32px;\n",
              "      padding: 0 0 0 0;\n",
              "      width: 32px;\n",
              "    }\n",
              "\n",
              "    .colab-df-convert:hover {\n",
              "      background-color: #E2EBFA;\n",
              "      box-shadow: 0px 1px 2px rgba(60, 64, 67, 0.3), 0px 1px 3px 1px rgba(60, 64, 67, 0.15);\n",
              "      fill: #174EA6;\n",
              "    }\n",
              "\n",
              "    [theme=dark] .colab-df-convert {\n",
              "      background-color: #3B4455;\n",
              "      fill: #D2E3FC;\n",
              "    }\n",
              "\n",
              "    [theme=dark] .colab-df-convert:hover {\n",
              "      background-color: #434B5C;\n",
              "      box-shadow: 0px 1px 3px 1px rgba(0, 0, 0, 0.15);\n",
              "      filter: drop-shadow(0px 1px 2px rgba(0, 0, 0, 0.3));\n",
              "      fill: #FFFFFF;\n",
              "    }\n",
              "  </style>\n",
              "\n",
              "      <script>\n",
              "        const buttonEl =\n",
              "          document.querySelector('#df-12171fdd-57e0-4ca5-8cef-db37a03d854a button.colab-df-convert');\n",
              "        buttonEl.style.display =\n",
              "          google.colab.kernel.accessAllowed ? 'block' : 'none';\n",
              "\n",
              "        async function convertToInteractive(key) {\n",
              "          const element = document.querySelector('#df-12171fdd-57e0-4ca5-8cef-db37a03d854a');\n",
              "          const dataTable =\n",
              "            await google.colab.kernel.invokeFunction('convertToInteractive',\n",
              "                                                     [key], {});\n",
              "          if (!dataTable) return;\n",
              "\n",
              "          const docLinkHtml = 'Like what you see? Visit the ' +\n",
              "            '<a target=\"_blank\" href=https://colab.research.google.com/notebooks/data_table.ipynb>data table notebook</a>'\n",
              "            + ' to learn more about interactive tables.';\n",
              "          element.innerHTML = '';\n",
              "          dataTable['output_type'] = 'display_data';\n",
              "          await google.colab.output.renderOutput(dataTable, element);\n",
              "          const docLink = document.createElement('div');\n",
              "          docLink.innerHTML = docLinkHtml;\n",
              "          element.appendChild(docLink);\n",
              "        }\n",
              "      </script>\n",
              "    </div>\n",
              "  </div>\n",
              "  "
            ]
          },
          "metadata": {},
          "execution_count": 27
        }
      ]
    },
    {
      "cell_type": "code",
      "source": [
        "df_labels_fake = df[df.labels==0]\n",
        "df_labels_real = df[df.labels==1]"
      ],
      "metadata": {
        "id": "72ba3N27-xTQ"
      },
      "execution_count": null,
      "outputs": []
    },
    {
      "cell_type": "code",
      "source": [
        "df_labels_fake.describe()"
      ],
      "metadata": {
        "id": "fzqQPEmWmfRq"
      },
      "execution_count": null,
      "outputs": []
    },
    {
      "cell_type": "code",
      "source": [
        "df_labels_fake.head(10)"
      ],
      "metadata": {
        "id": "E3wiLTwM--FQ"
      },
      "execution_count": null,
      "outputs": []
    },
    {
      "cell_type": "code",
      "source": [
        "df_labels_real.describe()"
      ],
      "metadata": {
        "id": "bgEwX9KTmUK6"
      },
      "execution_count": null,
      "outputs": []
    },
    {
      "cell_type": "code",
      "source": [
        "df_labels_real.head(10)"
      ],
      "metadata": {
        "id": "KJGIusij--gA"
      },
      "execution_count": null,
      "outputs": []
    },
    {
      "cell_type": "code",
      "source": [
        "df.describe()"
      ],
      "metadata": {
        "id": "rIB9SDvDmH4e"
      },
      "execution_count": null,
      "outputs": []
    },
    {
      "cell_type": "code",
      "source": [
        "X = df.drop(['labels'],axis=1)\n",
        "y = df['labels']\n",
        "X_train, X_test, y_train, y_test = train_test_split(X, y, test_size=0.2, random_state=2)"
      ],
      "metadata": {
        "id": "aReyhw5U_OT4"
      },
      "execution_count": null,
      "outputs": []
    },
    {
      "cell_type": "code",
      "source": [
        "X_try = df.iloc[:,1:1201]\n",
        "y_try = df.iloc[:,0]"
      ],
      "metadata": {
        "id": "At3tgyq6NOHj"
      },
      "execution_count": null,
      "outputs": []
    },
    {
      "cell_type": "code",
      "source": [
        "X_try.shape"
      ],
      "metadata": {
        "colab": {
          "base_uri": "https://localhost:8080/"
        },
        "id": "7TB_ej1eNXob",
        "outputId": "87eef19d-2580-4dc9-dbc6-b8e22b19807b"
      },
      "execution_count": null,
      "outputs": [
        {
          "output_type": "execute_result",
          "data": {
            "text/plain": [
              "(5250, 1200)"
            ]
          },
          "metadata": {},
          "execution_count": 29
        }
      ]
    },
    {
      "cell_type": "code",
      "source": [
        "y_try"
      ],
      "metadata": {
        "colab": {
          "base_uri": "https://localhost:8080/"
        },
        "id": "PtKR2sSkNaVb",
        "outputId": "f29351b5-6d90-4906-e3ef-cc0942f8b50d"
      },
      "execution_count": null,
      "outputs": [
        {
          "output_type": "execute_result",
          "data": {
            "text/plain": [
              "tensor([[0.],\n",
              "        [1.],\n",
              "        [1.],\n",
              "        ...,\n",
              "        [1.],\n",
              "        [1.],\n",
              "        [1.]])"
            ]
          },
          "metadata": {},
          "execution_count": 17
        }
      ]
    },
    {
      "cell_type": "code",
      "source": [
        "X_train_try, X_test_try, y_train_try, y_test_try = train_test_split(X_try, y_try, train_size=0.7, shuffle=True)"
      ],
      "metadata": {
        "id": "07sPXo9iOV-2"
      },
      "execution_count": null,
      "outputs": []
    },
    {
      "cell_type": "code",
      "source": [
        "y_try.shape"
      ],
      "metadata": {
        "colab": {
          "base_uri": "https://localhost:8080/"
        },
        "id": "B71d0msWOQUQ",
        "outputId": "9c575f39-d945-4706-bc41-b3ef6bd93487"
      },
      "execution_count": null,
      "outputs": [
        {
          "output_type": "execute_result",
          "data": {
            "text/plain": [
              "torch.Size([5250, 1])"
            ]
          },
          "metadata": {},
          "execution_count": 34
        }
      ]
    },
    {
      "cell_type": "code",
      "source": [
        "import torch\n",
        "X_try = torch.tensor(X_try.values, dtype=torch.float32)\n",
        "y_try = torch.tensor(y_try, dtype=torch.float32).reshape(-1, 1)"
      ],
      "metadata": {
        "id": "fGSMYAUhNnJU"
      },
      "execution_count": null,
      "outputs": []
    },
    {
      "cell_type": "code",
      "source": [],
      "metadata": {
        "id": "6P3GyY5zOFT8"
      },
      "execution_count": null,
      "outputs": []
    },
    {
      "cell_type": "code",
      "source": [
        "X"
      ],
      "metadata": {
        "id": "_P5oAhdkLAvO"
      },
      "execution_count": null,
      "outputs": []
    },
    {
      "cell_type": "code",
      "source": [
        "X_train"
      ],
      "metadata": {
        "id": "2HX7WwZPLBTO"
      },
      "execution_count": null,
      "outputs": []
    },
    {
      "cell_type": "code",
      "source": [
        "X_test"
      ],
      "metadata": {
        "id": "skfXULKdLEA_"
      },
      "execution_count": null,
      "outputs": []
    },
    {
      "cell_type": "code",
      "source": [
        "y"
      ],
      "metadata": {
        "id": "8aazhABJLz63"
      },
      "execution_count": null,
      "outputs": []
    },
    {
      "cell_type": "markdown",
      "source": [
        "### Training using Logistic Regression"
      ],
      "metadata": {
        "id": "Am7pIA3-LJnn"
      }
    },
    {
      "cell_type": "code",
      "source": [
        "model_LG = LinearRegression()\n",
        "model_LG.fit(X_train, y_train)\n",
        "y_predlinear = model_LG.predict(X_test)\n",
        "# print(y_predlinear)\n",
        "y_predlinear_new = []\n",
        "for target in y_predlinear:\n",
        "  y_predlinear_new.append(round(target))\n",
        "# print(y_predlinear_new)\n",
        "# y_predlinear = round(y_predlinear)\n",
        "print(\"Accuracy:\", metrics.accuracy_score(y_test, y_predlinear_new))"
      ],
      "metadata": {
        "colab": {
          "base_uri": "https://localhost:8080/"
        },
        "id": "eZPXSaVjLFkv",
        "outputId": "8eb527f9-100a-4d14-9817-459e74ae197c"
      },
      "execution_count": null,
      "outputs": [
        {
          "output_type": "stream",
          "name": "stdout",
          "text": [
            "Accuracy: 0.7628571428571429\n"
          ]
        }
      ]
    },
    {
      "cell_type": "markdown",
      "source": [
        "### Training using Ridge Regression"
      ],
      "metadata": {
        "id": "hk9AQ7f9nTli"
      }
    },
    {
      "cell_type": "code",
      "source": [
        "model_ridge = Ridge(alpha=0.01)\n",
        "model_ridge.fit(X_train, y_train)\n",
        "y_predridge = model_ridge.predict(X_test)\n",
        "y_predridge_new = []\n",
        "for target in y_predridge:\n",
        "  y_predridge_new.append(round(target))\n",
        "# print(y_predlinear_new)\n",
        "# y_predlinear = round(y_predlinear)\n",
        "print(\"Accuracy:\", metrics.accuracy_score(y_test, y_predridge_new))"
      ],
      "metadata": {
        "colab": {
          "base_uri": "https://localhost:8080/"
        },
        "id": "ufHsTdb5nTcr",
        "outputId": "9aa4abe5-7d4c-459f-9329-6d667a3f3745"
      },
      "execution_count": null,
      "outputs": [
        {
          "output_type": "stream",
          "name": "stdout",
          "text": [
            "Accuracy: 0.7628571428571429\n"
          ]
        }
      ]
    },
    {
      "cell_type": "markdown",
      "source": [
        "### Training using XGB Regressor"
      ],
      "metadata": {
        "id": "hoiBoxVyn7XU"
      }
    },
    {
      "cell_type": "code",
      "source": [
        "import xgboost\n",
        "from xgboost import XGBRegressor\n",
        "model_xgbr = XGBRegressor(objective ='reg:squarederror', n_estimators = 10, seed = 0, max_depth = 3)\n",
        "model_xgbr.fit(X_train, y_train)\n",
        "y_predxgbr = model_xgbr.predict(X_test)\n",
        "y_predxgbr_new = []\n",
        "for target in y_predxgbr:\n",
        "  y_predxgbr_new.append(round(target))\n",
        "# print(y_predlinear_new)\n",
        "# y_predlinear = round(y_predlinear)\n",
        "print(\"Accuracy:\", metrics.accuracy_score(y_test, y_predxgbr_new))"
      ],
      "metadata": {
        "colab": {
          "base_uri": "https://localhost:8080/"
        },
        "id": "ZFwUoBFxoGT7",
        "outputId": "16a9e3cb-3697-4614-e870-d222d68a22ff"
      },
      "execution_count": null,
      "outputs": [
        {
          "output_type": "stream",
          "name": "stdout",
          "text": [
            "Accuracy: 0.8314285714285714\n"
          ]
        }
      ]
    },
    {
      "cell_type": "markdown",
      "source": [
        "### Training using Gradient Boosting"
      ],
      "metadata": {
        "id": "3aQMLRjELPGn"
      }
    },
    {
      "cell_type": "code",
      "source": [
        "from sklearn.ensemble import GradientBoostingClassifier\n",
        "clf = GradientBoostingClassifier(n_estimators=100, learning_rate=0.1,\n",
        "    max_depth=3, random_state=20)\n",
        "clf.fit(X_train, y_train)\n",
        "y_predgboost = clf.predict(X_test)\n",
        "y_predgboost_new = []\n",
        "for target in y_predgboost:\n",
        "  y_predgboost_new.append(round(target))\n",
        "print(\"Accuracy:\", metrics.accuracy_score(y_test, y_predgboost_new))"
      ],
      "metadata": {
        "colab": {
          "base_uri": "https://localhost:8080/"
        },
        "id": "_AIwfxk0LRkH",
        "outputId": "6ceadd00-7b40-48b1-a2cd-890973b07e77"
      },
      "execution_count": null,
      "outputs": [
        {
          "output_type": "stream",
          "name": "stdout",
          "text": [
            "Accuracy: 0.8542857142857143\n"
          ]
        }
      ]
    },
    {
      "cell_type": "markdown",
      "source": [
        "### Training using Deep Neural Network\n",
        "Here i want to do binary classification which is the output only give me one class (0 or 1).\n",
        "But i am interested what happen if i want the model give me two class but with probability of each class, and then i will select the bigger probability"
      ],
      "metadata": {
        "id": "ZsP15S7fpjiL"
      }
    },
    {
      "cell_type": "code",
      "source": [
        "from torch.utils.data import Dataset, DataLoader, TensorDataset\n",
        "import torch\n",
        "import torch.optim as optim\n",
        "import torch.nn as nn\n",
        "import torch.nn.functional as F\n",
        "from torchvision import models\n",
        "from datetime import datetime"
      ],
      "metadata": {
        "id": "8i68FJIfpmQ7"
      },
      "execution_count": null,
      "outputs": []
    },
    {
      "cell_type": "code",
      "source": [
        "fix_X = np.float32(X_train)\n",
        "fix_y = np.float32(y_train)\n",
        "fix_X_train = torch.from_numpy(fix_X)\n",
        "fix_y_train = torch.from_numpy(fix_y)\n",
        "# dataset = TensorDataset(fix_X_train, fix_y_train)\n",
        "# data_loader = DataLoader(dataset, batch_size = 16, shuffle = True)"
      ],
      "metadata": {
        "id": "PVIjLgJkp08p"
      },
      "execution_count": null,
      "outputs": []
    },
    {
      "cell_type": "code",
      "source": [
        "fix_X_train.shape"
      ],
      "metadata": {
        "colab": {
          "base_uri": "https://localhost:8080/"
        },
        "id": "ciHQ_8nAteYp",
        "outputId": "b4680925-9948-40c2-e9b0-1e11559cc845"
      },
      "execution_count": null,
      "outputs": [
        {
          "output_type": "execute_result",
          "data": {
            "text/plain": [
              "torch.Size([4200, 1200])"
            ]
          },
          "metadata": {},
          "execution_count": 10
        }
      ]
    },
    {
      "cell_type": "code",
      "source": [
        "fix_y_train.shape\n",
        "fix_y_train"
      ],
      "metadata": {
        "colab": {
          "base_uri": "https://localhost:8080/"
        },
        "id": "-rKsNLxXti7c",
        "outputId": "ea4b4a7a-cd6f-48d1-efab-3a61f08a2152"
      },
      "execution_count": null,
      "outputs": [
        {
          "output_type": "execute_result",
          "data": {
            "text/plain": [
              "tensor([0., 0., 0.,  ..., 0., 0., 1.])"
            ]
          },
          "metadata": {},
          "execution_count": 8
        }
      ]
    },
    {
      "cell_type": "code",
      "source": [
        "fix_y_train.long()"
      ],
      "metadata": {
        "colab": {
          "base_uri": "https://localhost:8080/"
        },
        "id": "DbWqlyH2kU5-",
        "outputId": "db912c08-7578-4319-a157-f114660c29ba"
      },
      "execution_count": null,
      "outputs": [
        {
          "output_type": "execute_result",
          "data": {
            "text/plain": [
              "tensor([0, 0, 0,  ..., 0, 0, 1])"
            ]
          },
          "metadata": {},
          "execution_count": 10
        }
      ]
    },
    {
      "cell_type": "code",
      "source": [
        "fix_X.shape"
      ],
      "metadata": {
        "colab": {
          "base_uri": "https://localhost:8080/"
        },
        "id": "ZOSIz2iiuvsp",
        "outputId": "e2223d49-6ecf-4db3-f41d-d06672208b42"
      },
      "execution_count": null,
      "outputs": [
        {
          "output_type": "execute_result",
          "data": {
            "text/plain": [
              "(4200, 1200)"
            ]
          },
          "metadata": {},
          "execution_count": 48
        }
      ]
    },
    {
      "cell_type": "code",
      "source": [
        "X_train_try.shape"
      ],
      "metadata": {
        "colab": {
          "base_uri": "https://localhost:8080/"
        },
        "id": "8Em8gfMwUMm_",
        "outputId": "abfbd0b7-edb3-442c-9656-3e8bd5b76b7d"
      },
      "execution_count": null,
      "outputs": [
        {
          "output_type": "execute_result",
          "data": {
            "text/plain": [
              "torch.Size([3674, 1200])"
            ]
          },
          "metadata": {},
          "execution_count": 35
        }
      ]
    },
    {
      "cell_type": "code",
      "source": [
        "y_train_try.shape"
      ],
      "metadata": {
        "colab": {
          "base_uri": "https://localhost:8080/"
        },
        "id": "z1vV-49WU7xQ",
        "outputId": "ef1d41d4-bbf9-4116-d1f7-300b782f4d9b"
      },
      "execution_count": null,
      "outputs": [
        {
          "output_type": "execute_result",
          "data": {
            "text/plain": [
              "torch.Size([3674, 1])"
            ]
          },
          "metadata": {},
          "execution_count": 41
        }
      ]
    },
    {
      "cell_type": "code",
      "source": [
        "class Wide(nn.Module):\n",
        "    def __init__(self):\n",
        "        super().__init__()\n",
        "        self.hidden = nn.Linear(1200, 2400)\n",
        "        self.relu = nn.ReLU()\n",
        "        self.output = nn.Linear(2400, 1)\n",
        "        self.sigmoid = nn.Sigmoid()\n",
        " \n",
        "    def forward(self, x):\n",
        "        x = self.relu(self.hidden(x))\n",
        "        x = self.sigmoid(self.output(x))\n",
        "        return x"
      ],
      "metadata": {
        "id": "8KkRjE4uY6j7"
      },
      "execution_count": null,
      "outputs": []
    },
    {
      "cell_type": "code",
      "source": [
        "class Deep(nn.Module):\n",
        "    def __init__(self):\n",
        "        super().__init__()\n",
        "        self.layer1 = nn.Linear(1200, 800)\n",
        "        self.act1 = nn.ReLU()\n",
        "        self.layer2 = nn.Linear(800, 800)\n",
        "        self.act2 = nn.ReLU()\n",
        "        self.layer3 = nn.Linear(800, 800)\n",
        "        self.act3 = nn.ReLU()\n",
        "        self.output = nn.Linear(800, 1)\n",
        "        self.sigmoid = nn.Sigmoid()\n",
        " \n",
        "    def forward(self, x):\n",
        "        x = self.act1(self.layer1(x))\n",
        "        x = self.act2(self.layer2(x))\n",
        "        x = self.act3(self.layer3(x))\n",
        "        x = self.sigmoid(self.output(x))\n",
        "        return x"
      ],
      "metadata": {
        "id": "yr05D6_EY_61"
      },
      "execution_count": null,
      "outputs": []
    },
    {
      "cell_type": "code",
      "source": [
        "# Define artificial neural network model (1 class output)\n",
        "model_ann_bc = nn.Sequential(\n",
        "    nn.Linear(1200,3600),\n",
        "    nn.ReLU(),\n",
        "    nn.Linear(3600,3600),\n",
        "    nn.ReLU(),\n",
        "    nn.Linear(3600,1),\n",
        "    nn.Sigmoid()\n",
        ")\n",
        "# model.cuda()\n",
        "opt_bc = optim.Adam(\n",
        "    model_ann_bc.parameters(),\n",
        "    lr=1e-3,\n",
        "    weight_decay=1e-5\n",
        ")\n",
        "loss_fn_bc = nn.BCELoss()"
      ],
      "metadata": {
        "id": "t_sv7FNLO9mD"
      },
      "execution_count": null,
      "outputs": []
    },
    {
      "cell_type": "code",
      "source": [
        "# Define artificial neural network model (2 class output)\n",
        "model_ann_mc = nn.Sequential(\n",
        "    nn.Linear(1200,100),\n",
        "    nn.ReLU(),\n",
        "    nn.Linear(100,100),\n",
        "    nn.ReLU(),\n",
        "    nn.Linear(100,2)\n",
        ")\n",
        "# model.cuda()\n",
        "opt_mc = optim.Adam(\n",
        "    model_ann_mc.parameters(),\n",
        "    lr=1e-3,\n",
        "    weight_decay=1e-5\n",
        ")\n",
        "loss_fn_mc = nn.CrossEntropyLoss()"
      ],
      "metadata": {
        "id": "dWsYcZRSqmxX"
      },
      "execution_count": null,
      "outputs": []
    },
    {
      "cell_type": "code",
      "source": [
        "# Define deep neural network model (1 class output)\n",
        "model_dnn_bc = nn.Sequential(\n",
        "    nn.Linear(1200,1200),\n",
        "    nn.ReLU(),\n",
        "    nn.Linear(1200,1200),\n",
        "    nn.ReLU(),\n",
        "    nn.Linear(1200,1200),\n",
        "    nn.ReLU(),\n",
        "    nn.Linear(1200,1),\n",
        "    nn.Sigmoid()\n",
        ")\n",
        "# model.cuda()\n",
        "opt_dnn_bc = optim.Adam(\n",
        "    model_dnn_bc.parameters(),\n",
        "    lr=1e-3,\n",
        "    weight_decay=1e-5\n",
        ")\n",
        "loss_fn_dnn_bc = nn.BCELoss()"
      ],
      "metadata": {
        "id": "Z6kIfqUmPXDd"
      },
      "execution_count": null,
      "outputs": []
    },
    {
      "cell_type": "code",
      "source": [
        "# Define deep neural network model (2 class output)\n",
        "model_dnn_mc = nn.Sequential(\n",
        "    nn.Linear(1200,500),\n",
        "    nn.ReLU(),\n",
        "    nn.Linear(500,300),\n",
        "    nn.ReLU(),\n",
        "    nn.Linear(300,100),\n",
        "    nn.ReLU(),\n",
        "    nn.Linear(100,70),\n",
        "    nn.ReLU(),\n",
        "    nn.Linear(70,50),\n",
        "    nn.ReLU(),\n",
        "    nn.Linear(50,30),\n",
        "    nn.ReLU(),\n",
        "    nn.Linear(30,10),\n",
        "    nn.ReLU(),\n",
        "    nn.Linear(10,2)\n",
        ")\n",
        "# model.cuda()\n",
        "opt_dnn_mc = optim.Adam(\n",
        "    model_dnn_mc.parameters(),\n",
        "    lr=1e-3,\n",
        "    weight_decay=1e-5\n",
        ")\n",
        "loss_fn_dnn_mc = nn.CrossEntropyLoss()"
      ],
      "metadata": {
        "id": "bdjTYM1Ngp0I"
      },
      "execution_count": null,
      "outputs": []
    },
    {
      "cell_type": "code",
      "source": [
        "# Training time for ann binary classification\n",
        "model_ann_bc = Wide()\n",
        "loss_fn_ann_bc = nn.BCELoss()  # binary cross entropy\n",
        "opt_ann_bc = optim.Adam(model_ann_bc.parameters(), lr=0.0001)\n",
        "for t in range(50):\n",
        "    model_ann_bc.train()\n",
        "    # Feed forward to get the logits\n",
        "    y_pred_ann_bc = model_ann_bc(X_train_try)\n",
        "    # print(y_pred_ann)\n",
        "    # print(fix_y_train.long())\n",
        "    \n",
        "    # Compute the loss and accuracy\n",
        "    loss_ann_bc = loss_fn_bc(y_pred_ann_bc, y_train_try)\n",
        "    acc_ann_bc = (y_train_try == y_pred_ann_bc.round()).float().mean()\n",
        "    print('[EPOCH]: %i, [LOSS]: %.6f, [ACCURACY]: %.3f' % (t, loss_ann_bc, acc_ann_bc))\n",
        "    # Zero the gradients before warning the backward pass\n",
        "    opt_bc.zero_grad()\n",
        "    \n",
        "    # Backward pass\n",
        "    loss_ann_bc.backward()\n",
        "    \n",
        "    # Update parameters\n",
        "    opt_bc.step()"
      ],
      "metadata": {
        "id": "KyoxHVPNQwuP"
      },
      "execution_count": null,
      "outputs": []
    },
    {
      "cell_type": "code",
      "source": [
        "# Training time for ann multiclass classification\n",
        "for t in range(50):\n",
        "    # Feed forward to get the logits\n",
        "    y_pred_ann_mc = model_ann_mc(fix_X_train)\n",
        "    # print(y_pred_ann)\n",
        "    # print(fix_y_train.long())\n",
        "    \n",
        "    # Compute the loss and accuracy\n",
        "    loss_ann_mc = loss_fn_mc(y_pred_ann_mc, fix_y_train.long())\n",
        "    score_ann_mc, predicted_ann_mc = torch.max(y_pred_ann_mc, 1)\n",
        "    acc_ann_mc = (fix_y_train == predicted_ann_mc).sum().float() / len(fix_y_train)\n",
        "    print('[EPOCH]: %i, [LOSS]: %.6f, [ACCURACY]: %.3f' % (t, loss_ann_mc, acc_ann_mc))\n",
        "    \n",
        "    # Zero the gradients before warning the backward pass\n",
        "    opt_mc.zero_grad()\n",
        "    \n",
        "    # Backward pass\n",
        "    loss_ann_mc.backward()\n",
        "    \n",
        "    # Update parameters\n",
        "    opt_mc.step()"
      ],
      "metadata": {
        "id": "gEYTA6phrLUf"
      },
      "execution_count": null,
      "outputs": []
    },
    {
      "cell_type": "code",
      "source": [
        "# Training time for dnn binary classification\n",
        "model_dnn_bc = Deep()\n",
        "loss_fn_dnn_bc = nn.BCELoss()  # binary cross entropy\n",
        "opt_dnn_bc = optim.Adam(model_dnn_bc.parameters(), lr=0.0001)\n",
        "for t in range(100):\n",
        "    # Feed forward to get the logits\n",
        "    y_pred_dnn_bc = model_dnn_bc(X_train_try)\n",
        "    # print(y_pred_dnn)\n",
        "    # print(fix_y_train.long())\n",
        "    \n",
        "    # Compute the loss and accuracy\n",
        "    loss_dnn_bc = loss_fn_dnn_bc(y_pred_dnn_bc, y_train_try)\n",
        "    \n",
        "    # Zero the gradients before warning the backward pass\n",
        "    opt_dnn_bc.zero_grad()\n",
        "    \n",
        "    # Backward pass\n",
        "    loss_dnn_bc.backward()\n",
        "    \n",
        "    # Update parameters\n",
        "    opt_dnn_bc.step()\n",
        "\n",
        "    acc_dnn_bc = (y_train_try == y_pred_dnn_bc.round()).float().mean()\n",
        "    print('[EPOCH]: %i, [LOSS]: %.6f, [ACCURACY]: %.3f' % (t, loss_dnn_bc, acc_dnn_bc))"
      ],
      "metadata": {
        "id": "iLh7JLVwQ0nG"
      },
      "execution_count": null,
      "outputs": []
    },
    {
      "cell_type": "code",
      "source": [
        "# Training time for dnn multiclass classification\n",
        "for t in range(50):\n",
        "    # Feed forward to get the logits\n",
        "    y_pred_dnn_mc = model_dnn_mc(fix_X_train)\n",
        "    # print(y_pred_dnn)\n",
        "    # print(fix_y_train.long())\n",
        "    \n",
        "    # Compute the loss and accuracy\n",
        "    loss_dnn_mc = loss_fn_dnn_mc(y_pred_dnn_mc, fix_y_train.long())\n",
        "    score_dnn_mc, predicted_dnn_mc = torch.max(y_pred_dnn_mc, 1)\n",
        "    acc_dnn_mc = (fix_y_train == predicted_dnn_mc).sum().float() / len(fix_y_train)\n",
        "    print('[EPOCH]: %i, [LOSS]: %.6f, [ACCURACY]: %.3f' % (t, loss_dnn_mc, acc_dnn_mc))\n",
        "    \n",
        "    # Zero the gradients before warning the backward pass\n",
        "    opt_dnn_mc.zero_grad()\n",
        "    \n",
        "    # Backward pass\n",
        "    loss_dnn_mc.backward()\n",
        "    \n",
        "    # Update parameters\n",
        "    opt_dnn_mc.step()"
      ],
      "metadata": {
        "id": "QG2PqvT7hdU5"
      },
      "execution_count": null,
      "outputs": []
    },
    {
      "cell_type": "code",
      "source": [
        "PATH = '/content/modelnn.pth'\n",
        "torch.save(model.state_dict(), PATH)"
      ],
      "metadata": {
        "id": "6lTQ4JuAv14X"
      },
      "execution_count": null,
      "outputs": []
    },
    {
      "cell_type": "code",
      "source": [
        "# test with validation set using ann model\n",
        "fix_X_val = np.float32(X_test)\n",
        "# fix_y_val = np.float32(y_test)\n",
        "fix_X_valid = torch.from_numpy(fix_X_val)\n",
        "# fix_y_valid = torch.from_numpy(fix_y_val)\n",
        "y_pred_val_ann = model_ann(fix_X_valid)\n",
        "# y_pred_val.shape\n",
        "# y_pred_val\n",
        "score,predicted = torch.max(y_pred_val_ann,1)\n",
        "predicted_array_ann = predicted.numpy()\n",
        "print(\"Accuracy:\", metrics.accuracy_score(y_test, predicted_array_ann))"
      ],
      "metadata": {
        "colab": {
          "base_uri": "https://localhost:8080/"
        },
        "id": "b8fM00gRmAs_",
        "outputId": "7715a5bf-f06e-4d93-b5b7-3712a44b7b76"
      },
      "execution_count": null,
      "outputs": [
        {
          "output_type": "stream",
          "name": "stdout",
          "text": [
            "Accuracy: 0.8180952380952381\n"
          ]
        }
      ]
    },
    {
      "cell_type": "code",
      "source": [
        "y_pred_val_dnn_bc = model_dnn_bc(X_test_try)\n",
        "y_pred_val_dnn_bc_new = y_pred_val_dnn_bc.round()\n",
        "print(y_pred_val_dnn_bc_new)\n",
        "predicted_array_dnn_bc = y_pred_val_dnn_bc_new.detach().numpy()\n",
        "print(\"Accuracy:\", metrics.accuracy_score(y_test_try, predicted_array_dnn_bc))"
      ],
      "metadata": {
        "colab": {
          "base_uri": "https://localhost:8080/"
        },
        "id": "5L7cKvuDbjR0",
        "outputId": "add3be16-c593-4cae-bff6-a708837e76be"
      },
      "execution_count": null,
      "outputs": [
        {
          "output_type": "stream",
          "name": "stdout",
          "text": [
            "tensor([[1.],\n",
            "        [0.],\n",
            "        [1.],\n",
            "        ...,\n",
            "        [0.],\n",
            "        [0.],\n",
            "        [0.]], grad_fn=<RoundBackward0>)\n",
            "Accuracy: 0.8426395939086294\n"
          ]
        }
      ]
    },
    {
      "cell_type": "code",
      "source": [
        "tensor.detach().numpy()"
      ],
      "metadata": {
        "id": "_OaLnXkKcpDH"
      },
      "execution_count": null,
      "outputs": []
    },
    {
      "cell_type": "code",
      "source": [
        "predicted_array_ann"
      ],
      "metadata": {
        "colab": {
          "base_uri": "https://localhost:8080/"
        },
        "id": "yKyb72cui8LB",
        "outputId": "db0abdcd-0147-45ec-9402-7a9d351ec4fa"
      },
      "execution_count": null,
      "outputs": [
        {
          "output_type": "execute_result",
          "data": {
            "text/plain": [
              "array([0, 0, 1, ..., 1, 0, 1])"
            ]
          },
          "metadata": {},
          "execution_count": 18
        }
      ]
    },
    {
      "cell_type": "code",
      "source": [
        "y_test"
      ],
      "metadata": {
        "colab": {
          "base_uri": "https://localhost:8080/"
        },
        "id": "NwJ-DmZ6jAD5",
        "outputId": "cf1ef442-cd74-4508-e608-caec57e8caa1"
      },
      "execution_count": null,
      "outputs": [
        {
          "output_type": "execute_result",
          "data": {
            "text/plain": [
              "622     0\n",
              "4709    0\n",
              "1471    0\n",
              "4030    0\n",
              "4100    1\n",
              "       ..\n",
              "1614    0\n",
              "1239    0\n",
              "5234    1\n",
              "1298    0\n",
              "5204    1\n",
              "Name: labels, Length: 1050, dtype: int64"
            ]
          },
          "metadata": {},
          "execution_count": 19
        }
      ]
    },
    {
      "cell_type": "code",
      "source": [
        "# test with validation set using dnn model\n",
        "y_pred_val_dnn = model_dnn(fix_X_valid)\n",
        "score_dnn,predicted_dnn = torch.max(y_pred_val_dnn,1)\n",
        "predicted_array_dnn = predicted_dnn.numpy()\n",
        "print(\"Accuracy:\", metrics.accuracy_score(y_test, predicted_array_dnn))"
      ],
      "metadata": {
        "colab": {
          "base_uri": "https://localhost:8080/"
        },
        "id": "OGBUYB4iiqkw",
        "outputId": "c9bb6003-2a34-4ea6-ddcf-66a2fc6f111c"
      },
      "execution_count": null,
      "outputs": [
        {
          "output_type": "stream",
          "name": "stdout",
          "text": [
            "Accuracy: 0.8247619047619048\n"
          ]
        }
      ]
    },
    {
      "cell_type": "code",
      "source": [
        "score,predicted = torch.max(y_pred_val,1)"
      ],
      "metadata": {
        "id": "Akj3q1qLog2Q"
      },
      "execution_count": null,
      "outputs": []
    },
    {
      "cell_type": "code",
      "source": [
        "score"
      ],
      "metadata": {
        "colab": {
          "base_uri": "https://localhost:8080/"
        },
        "id": "WqibbkOpomUp",
        "outputId": "10937c9a-a461-4075-8523-f66389ca1dc2"
      },
      "execution_count": null,
      "outputs": [
        {
          "output_type": "execute_result",
          "data": {
            "text/plain": [
              "tensor([ 1.3801, 21.6667,  1.6460,  ...,  5.6688,  4.5472, 25.7727],\n",
              "       grad_fn=<MaxBackward0>)"
            ]
          },
          "metadata": {},
          "execution_count": 23
        }
      ]
    },
    {
      "cell_type": "code",
      "source": [
        "y_test"
      ],
      "metadata": {
        "colab": {
          "base_uri": "https://localhost:8080/"
        },
        "id": "yJP3HqsOo0XZ",
        "outputId": "e7508c4e-7096-4a58-e09c-df2910214716"
      },
      "execution_count": null,
      "outputs": [
        {
          "output_type": "execute_result",
          "data": {
            "text/plain": [
              "dtype('int64')"
            ]
          },
          "metadata": {},
          "execution_count": 28
        }
      ]
    },
    {
      "cell_type": "code",
      "source": [
        "predicted"
      ],
      "metadata": {
        "colab": {
          "base_uri": "https://localhost:8080/"
        },
        "id": "x_EZSsFlopNb",
        "outputId": "fa33568c-5ff1-4154-f83a-4dd1122099a9"
      },
      "execution_count": null,
      "outputs": [
        {
          "output_type": "execute_result",
          "data": {
            "text/plain": [
              "tensor([0, 0, 1,  ..., 1, 0, 1])"
            ]
          },
          "metadata": {},
          "execution_count": 24
        }
      ]
    },
    {
      "cell_type": "code",
      "source": [
        "y_pred_val.shape"
      ],
      "metadata": {
        "colab": {
          "base_uri": "https://localhost:8080/"
        },
        "id": "jRAh45IsocSq",
        "outputId": "a5cf72e2-cc6d-41aa-dba5-b64851adfeaa"
      },
      "execution_count": null,
      "outputs": [
        {
          "output_type": "execute_result",
          "data": {
            "text/plain": [
              "torch.Size([1050, 2])"
            ]
          },
          "metadata": {},
          "execution_count": 18
        }
      ]
    },
    {
      "cell_type": "markdown",
      "source": [
        "### Testing with test data"
      ],
      "metadata": {
        "id": "SI10t_1cwKrr"
      }
    },
    {
      "cell_type": "markdown",
      "source": [
        "### Use Neural Network Model"
      ],
      "metadata": {
        "id": "m4UPTwWTxMI5"
      }
    },
    {
      "cell_type": "code",
      "source": [
        "# prepare the data\n",
        "test_file = '/content/drive/MyDrive/identify_fake_generated_image/test.csv'\n",
        "df_test = pd.read_csv(test_file)\n",
        "df_test.head()"
      ],
      "metadata": {
        "colab": {
          "base_uri": "https://localhost:8080/",
          "height": 299
        },
        "id": "rTt5qujfwMUe",
        "outputId": "eb3b75c9-8fed-46b6-87b2-7fe63a71485d"
      },
      "execution_count": null,
      "outputs": [
        {
          "output_type": "execute_result",
          "data": {
            "text/plain": [
              "   id       f_0       f_1       f_2       f_3       f_4       f_5       f_6  \\\n",
              "0   1 -3.388242  0.868285 -0.427619 -0.678964 -1.625735  0.262761  1.243040   \n",
              "1   2 -0.496920  0.952381  0.989040  0.451422  0.513516 -0.099658 -1.124326   \n",
              "2   3  1.128369 -0.537951  2.544358  1.165254 -1.904994  0.776961 -0.495768   \n",
              "3   4  0.051253  1.746814  0.681177  1.844524 -0.327977  1.226839 -0.085519   \n",
              "4   5  1.423209 -0.983594 -1.694170  1.197507  1.044211  0.518777 -0.298612   \n",
              "\n",
              "        f_7       f_8  ...    f_1190    f_1191    f_1192    f_1193    f_1194  \\\n",
              "0  1.537751 -0.352028  ... -0.776403 -0.662884 -0.257091 -1.168413  0.223260   \n",
              "1  0.729430 -0.216224  ...  0.379635 -1.760084  1.125450 -0.328047 -0.880305   \n",
              "2  0.060111 -1.418468  ...  1.165254 -1.373589 -0.483701 -0.964782 -0.869555   \n",
              "3  0.379008 -1.003667  ... -0.442288 -2.794472 -0.763468 -0.789832 -0.113209   \n",
              "4 -0.365174  0.738447  ... -2.624450 -3.200223  0.711422 -0.190394  0.337224   \n",
              "\n",
              "     f_1195    f_1196    f_1197    f_1198    f_1199  \n",
              "0 -0.482520 -0.085453 -0.382265 -0.539349 -1.682404  \n",
              "1 -1.257607  0.964312  2.021104  0.655021 -0.423029  \n",
              "2  0.066040 -0.444567 -0.531935 -0.878660  1.099488  \n",
              "3 -2.703150 -2.058728  1.070627 -0.458045 -0.435825  \n",
              "4 -1.656639  0.707360 -0.562290  1.471181 -0.192000  \n",
              "\n",
              "[5 rows x 1201 columns]"
            ],
            "text/html": [
              "\n",
              "  <div id=\"df-bf91d50e-e03d-4d09-be4d-15f225a62ea0\">\n",
              "    <div class=\"colab-df-container\">\n",
              "      <div>\n",
              "<style scoped>\n",
              "    .dataframe tbody tr th:only-of-type {\n",
              "        vertical-align: middle;\n",
              "    }\n",
              "\n",
              "    .dataframe tbody tr th {\n",
              "        vertical-align: top;\n",
              "    }\n",
              "\n",
              "    .dataframe thead th {\n",
              "        text-align: right;\n",
              "    }\n",
              "</style>\n",
              "<table border=\"1\" class=\"dataframe\">\n",
              "  <thead>\n",
              "    <tr style=\"text-align: right;\">\n",
              "      <th></th>\n",
              "      <th>id</th>\n",
              "      <th>f_0</th>\n",
              "      <th>f_1</th>\n",
              "      <th>f_2</th>\n",
              "      <th>f_3</th>\n",
              "      <th>f_4</th>\n",
              "      <th>f_5</th>\n",
              "      <th>f_6</th>\n",
              "      <th>f_7</th>\n",
              "      <th>f_8</th>\n",
              "      <th>...</th>\n",
              "      <th>f_1190</th>\n",
              "      <th>f_1191</th>\n",
              "      <th>f_1192</th>\n",
              "      <th>f_1193</th>\n",
              "      <th>f_1194</th>\n",
              "      <th>f_1195</th>\n",
              "      <th>f_1196</th>\n",
              "      <th>f_1197</th>\n",
              "      <th>f_1198</th>\n",
              "      <th>f_1199</th>\n",
              "    </tr>\n",
              "  </thead>\n",
              "  <tbody>\n",
              "    <tr>\n",
              "      <th>0</th>\n",
              "      <td>1</td>\n",
              "      <td>-3.388242</td>\n",
              "      <td>0.868285</td>\n",
              "      <td>-0.427619</td>\n",
              "      <td>-0.678964</td>\n",
              "      <td>-1.625735</td>\n",
              "      <td>0.262761</td>\n",
              "      <td>1.243040</td>\n",
              "      <td>1.537751</td>\n",
              "      <td>-0.352028</td>\n",
              "      <td>...</td>\n",
              "      <td>-0.776403</td>\n",
              "      <td>-0.662884</td>\n",
              "      <td>-0.257091</td>\n",
              "      <td>-1.168413</td>\n",
              "      <td>0.223260</td>\n",
              "      <td>-0.482520</td>\n",
              "      <td>-0.085453</td>\n",
              "      <td>-0.382265</td>\n",
              "      <td>-0.539349</td>\n",
              "      <td>-1.682404</td>\n",
              "    </tr>\n",
              "    <tr>\n",
              "      <th>1</th>\n",
              "      <td>2</td>\n",
              "      <td>-0.496920</td>\n",
              "      <td>0.952381</td>\n",
              "      <td>0.989040</td>\n",
              "      <td>0.451422</td>\n",
              "      <td>0.513516</td>\n",
              "      <td>-0.099658</td>\n",
              "      <td>-1.124326</td>\n",
              "      <td>0.729430</td>\n",
              "      <td>-0.216224</td>\n",
              "      <td>...</td>\n",
              "      <td>0.379635</td>\n",
              "      <td>-1.760084</td>\n",
              "      <td>1.125450</td>\n",
              "      <td>-0.328047</td>\n",
              "      <td>-0.880305</td>\n",
              "      <td>-1.257607</td>\n",
              "      <td>0.964312</td>\n",
              "      <td>2.021104</td>\n",
              "      <td>0.655021</td>\n",
              "      <td>-0.423029</td>\n",
              "    </tr>\n",
              "    <tr>\n",
              "      <th>2</th>\n",
              "      <td>3</td>\n",
              "      <td>1.128369</td>\n",
              "      <td>-0.537951</td>\n",
              "      <td>2.544358</td>\n",
              "      <td>1.165254</td>\n",
              "      <td>-1.904994</td>\n",
              "      <td>0.776961</td>\n",
              "      <td>-0.495768</td>\n",
              "      <td>0.060111</td>\n",
              "      <td>-1.418468</td>\n",
              "      <td>...</td>\n",
              "      <td>1.165254</td>\n",
              "      <td>-1.373589</td>\n",
              "      <td>-0.483701</td>\n",
              "      <td>-0.964782</td>\n",
              "      <td>-0.869555</td>\n",
              "      <td>0.066040</td>\n",
              "      <td>-0.444567</td>\n",
              "      <td>-0.531935</td>\n",
              "      <td>-0.878660</td>\n",
              "      <td>1.099488</td>\n",
              "    </tr>\n",
              "    <tr>\n",
              "      <th>3</th>\n",
              "      <td>4</td>\n",
              "      <td>0.051253</td>\n",
              "      <td>1.746814</td>\n",
              "      <td>0.681177</td>\n",
              "      <td>1.844524</td>\n",
              "      <td>-0.327977</td>\n",
              "      <td>1.226839</td>\n",
              "      <td>-0.085519</td>\n",
              "      <td>0.379008</td>\n",
              "      <td>-1.003667</td>\n",
              "      <td>...</td>\n",
              "      <td>-0.442288</td>\n",
              "      <td>-2.794472</td>\n",
              "      <td>-0.763468</td>\n",
              "      <td>-0.789832</td>\n",
              "      <td>-0.113209</td>\n",
              "      <td>-2.703150</td>\n",
              "      <td>-2.058728</td>\n",
              "      <td>1.070627</td>\n",
              "      <td>-0.458045</td>\n",
              "      <td>-0.435825</td>\n",
              "    </tr>\n",
              "    <tr>\n",
              "      <th>4</th>\n",
              "      <td>5</td>\n",
              "      <td>1.423209</td>\n",
              "      <td>-0.983594</td>\n",
              "      <td>-1.694170</td>\n",
              "      <td>1.197507</td>\n",
              "      <td>1.044211</td>\n",
              "      <td>0.518777</td>\n",
              "      <td>-0.298612</td>\n",
              "      <td>-0.365174</td>\n",
              "      <td>0.738447</td>\n",
              "      <td>...</td>\n",
              "      <td>-2.624450</td>\n",
              "      <td>-3.200223</td>\n",
              "      <td>0.711422</td>\n",
              "      <td>-0.190394</td>\n",
              "      <td>0.337224</td>\n",
              "      <td>-1.656639</td>\n",
              "      <td>0.707360</td>\n",
              "      <td>-0.562290</td>\n",
              "      <td>1.471181</td>\n",
              "      <td>-0.192000</td>\n",
              "    </tr>\n",
              "  </tbody>\n",
              "</table>\n",
              "<p>5 rows × 1201 columns</p>\n",
              "</div>\n",
              "      <button class=\"colab-df-convert\" onclick=\"convertToInteractive('df-bf91d50e-e03d-4d09-be4d-15f225a62ea0')\"\n",
              "              title=\"Convert this dataframe to an interactive table.\"\n",
              "              style=\"display:none;\">\n",
              "        \n",
              "  <svg xmlns=\"http://www.w3.org/2000/svg\" height=\"24px\"viewBox=\"0 0 24 24\"\n",
              "       width=\"24px\">\n",
              "    <path d=\"M0 0h24v24H0V0z\" fill=\"none\"/>\n",
              "    <path d=\"M18.56 5.44l.94 2.06.94-2.06 2.06-.94-2.06-.94-.94-2.06-.94 2.06-2.06.94zm-11 1L8.5 8.5l.94-2.06 2.06-.94-2.06-.94L8.5 2.5l-.94 2.06-2.06.94zm10 10l.94 2.06.94-2.06 2.06-.94-2.06-.94-.94-2.06-.94 2.06-2.06.94z\"/><path d=\"M17.41 7.96l-1.37-1.37c-.4-.4-.92-.59-1.43-.59-.52 0-1.04.2-1.43.59L10.3 9.45l-7.72 7.72c-.78.78-.78 2.05 0 2.83L4 21.41c.39.39.9.59 1.41.59.51 0 1.02-.2 1.41-.59l7.78-7.78 2.81-2.81c.8-.78.8-2.07 0-2.86zM5.41 20L4 18.59l7.72-7.72 1.47 1.35L5.41 20z\"/>\n",
              "  </svg>\n",
              "      </button>\n",
              "      \n",
              "  <style>\n",
              "    .colab-df-container {\n",
              "      display:flex;\n",
              "      flex-wrap:wrap;\n",
              "      gap: 12px;\n",
              "    }\n",
              "\n",
              "    .colab-df-convert {\n",
              "      background-color: #E8F0FE;\n",
              "      border: none;\n",
              "      border-radius: 50%;\n",
              "      cursor: pointer;\n",
              "      display: none;\n",
              "      fill: #1967D2;\n",
              "      height: 32px;\n",
              "      padding: 0 0 0 0;\n",
              "      width: 32px;\n",
              "    }\n",
              "\n",
              "    .colab-df-convert:hover {\n",
              "      background-color: #E2EBFA;\n",
              "      box-shadow: 0px 1px 2px rgba(60, 64, 67, 0.3), 0px 1px 3px 1px rgba(60, 64, 67, 0.15);\n",
              "      fill: #174EA6;\n",
              "    }\n",
              "\n",
              "    [theme=dark] .colab-df-convert {\n",
              "      background-color: #3B4455;\n",
              "      fill: #D2E3FC;\n",
              "    }\n",
              "\n",
              "    [theme=dark] .colab-df-convert:hover {\n",
              "      background-color: #434B5C;\n",
              "      box-shadow: 0px 1px 3px 1px rgba(0, 0, 0, 0.15);\n",
              "      filter: drop-shadow(0px 1px 2px rgba(0, 0, 0, 0.3));\n",
              "      fill: #FFFFFF;\n",
              "    }\n",
              "  </style>\n",
              "\n",
              "      <script>\n",
              "        const buttonEl =\n",
              "          document.querySelector('#df-bf91d50e-e03d-4d09-be4d-15f225a62ea0 button.colab-df-convert');\n",
              "        buttonEl.style.display =\n",
              "          google.colab.kernel.accessAllowed ? 'block' : 'none';\n",
              "\n",
              "        async function convertToInteractive(key) {\n",
              "          const element = document.querySelector('#df-bf91d50e-e03d-4d09-be4d-15f225a62ea0');\n",
              "          const dataTable =\n",
              "            await google.colab.kernel.invokeFunction('convertToInteractive',\n",
              "                                                     [key], {});\n",
              "          if (!dataTable) return;\n",
              "\n",
              "          const docLinkHtml = 'Like what you see? Visit the ' +\n",
              "            '<a target=\"_blank\" href=https://colab.research.google.com/notebooks/data_table.ipynb>data table notebook</a>'\n",
              "            + ' to learn more about interactive tables.';\n",
              "          element.innerHTML = '';\n",
              "          dataTable['output_type'] = 'display_data';\n",
              "          await google.colab.output.renderOutput(dataTable, element);\n",
              "          const docLink = document.createElement('div');\n",
              "          docLink.innerHTML = docLinkHtml;\n",
              "          element.appendChild(docLink);\n",
              "        }\n",
              "      </script>\n",
              "    </div>\n",
              "  </div>\n",
              "  "
            ]
          },
          "metadata": {},
          "execution_count": 61
        }
      ]
    },
    {
      "cell_type": "code",
      "source": [
        "# prepare the model and do inference\n",
        "testmodel = model\n",
        "testmodel.load_state_dict(torch.load('/content/modelnn.pth'))\n",
        "testmodel.eval()"
      ],
      "metadata": {
        "colab": {
          "base_uri": "https://localhost:8080/"
        },
        "id": "8FPx8USgwcbC",
        "outputId": "0e60d54b-b030-418e-abbc-1e96477a104d"
      },
      "execution_count": null,
      "outputs": [
        {
          "output_type": "execute_result",
          "data": {
            "text/plain": [
              "Sequential(\n",
              "  (0): Linear(in_features=1200, out_features=100, bias=True)\n",
              "  (1): ReLU()\n",
              "  (2): Linear(in_features=100, out_features=100, bias=True)\n",
              "  (3): ReLU()\n",
              "  (4): Linear(in_features=100, out_features=2, bias=True)\n",
              ")"
            ]
          },
          "metadata": {},
          "execution_count": 62
        }
      ]
    },
    {
      "cell_type": "code",
      "source": [
        "test_X = df_test.drop(['id'],axis=1)\n",
        "# y = df['labels']\n",
        "test_fix_X = np.float32(test_X)\n",
        "test_fixest_X= torch.from_numpy(test_fix_X)"
      ],
      "metadata": {
        "id": "OjG2Z4sKw_lQ"
      },
      "execution_count": null,
      "outputs": []
    },
    {
      "cell_type": "code",
      "source": [
        "y_pred_test = testmodel(test_fixest_X)"
      ],
      "metadata": {
        "id": "9vMwTs4Tx0A0"
      },
      "execution_count": null,
      "outputs": []
    },
    {
      "cell_type": "code",
      "source": [
        "y_pred_test.shape"
      ],
      "metadata": {
        "colab": {
          "base_uri": "https://localhost:8080/"
        },
        "id": "fNtMVKS8yAj3",
        "outputId": "9f6bece6-15f7-482d-f5b0-f48f8dc4da25"
      },
      "execution_count": null,
      "outputs": [
        {
          "output_type": "execute_result",
          "data": {
            "text/plain": [
              "torch.Size([2250, 2])"
            ]
          },
          "metadata": {},
          "execution_count": 66
        }
      ]
    },
    {
      "cell_type": "code",
      "source": [
        "y_pred_test"
      ],
      "metadata": {
        "colab": {
          "base_uri": "https://localhost:8080/"
        },
        "id": "30ZO94f4yB_4",
        "outputId": "6cb5d0b2-03c6-467e-fc2d-de15733b4de5"
      },
      "execution_count": null,
      "outputs": [
        {
          "output_type": "execute_result",
          "data": {
            "text/plain": [
              "tensor([[  1.6749,  -1.5763],\n",
              "        [ -1.4319,   1.4387],\n",
              "        [ -1.4814,   1.9281],\n",
              "        ...,\n",
              "        [-15.5964,  19.7223],\n",
              "        [ 36.6098, -38.7542],\n",
              "        [ -8.7475,  10.4216]], grad_fn=<AddmmBackward0>)"
            ]
          },
          "metadata": {},
          "execution_count": 67
        }
      ]
    },
    {
      "cell_type": "code",
      "source": [],
      "metadata": {
        "id": "UVhaFayfyGnp"
      },
      "execution_count": null,
      "outputs": []
    }
  ]
}